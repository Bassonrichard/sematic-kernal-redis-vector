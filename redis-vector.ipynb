{
 "cells": [
  {
   "cell_type": "code",
   "execution_count": 1,
   "metadata": {
    "dotnet_interactive": {
     "language": "csharp"
    },
    "polyglot_notebook": {
     "kernelName": "csharp"
    }
   },
   "outputs": [
    {
     "data": {
      "text/html": [
       "<div><div></div><div></div><div><strong>Installed Packages</strong><ul><li><span>Microsoft.Extensions.Logging.Console, 7.0.0</span></li><li><span>Microsoft.SemanticKernel, 0.16.230615.1-preview</span></li><li><span>Microsoft.SemanticKernel.Connectors.Memory.Redis, 0.16.230615.1-preview</span></li><li><span>StackExchange.Redis, 2.6.116</span></li></ul></div></div>"
      ]
     },
     "metadata": {},
     "output_type": "display_data"
    }
   ],
   "source": [
    "// Usual setup: importing Semantic Kernel SDK and SkiaSharp, used to display images inline.\n",
    "#r \"nuget: StackExchange.Redis\"\n",
    "#r \"nuget: Microsoft.Extensions.Logging.Console\"\n",
    "#r \"nuget: Microsoft.SemanticKernel, 0.16.230615.1-preview\"\n",
    "#r \"nuget: Microsoft.SemanticKernel.Connectors.Memory.Redis, 0.16.230615.1-preview\""
   ]
  },
  {
   "cell_type": "code",
   "execution_count": 2,
   "metadata": {
    "dotnet_interactive": {
     "language": "csharp"
    },
    "polyglot_notebook": {
     "kernelName": "csharp"
    }
   },
   "outputs": [],
   "source": [
    "#!import config/Settings.cs\n",
    "#!import config/Utils.cs"
   ]
  },
  {
   "cell_type": "code",
   "execution_count": 3,
   "metadata": {
    "dotnet_interactive": {
     "language": "csharp"
    },
    "polyglot_notebook": {
     "kernelName": "csharp"
    }
   },
   "outputs": [],
   "source": [
    "using StackExchange.Redis;\n",
    "using Microsoft.Extensions.Logging;\n",
    "using Microsoft.Extensions.Logging.Abstractions;\n",
    "using Microsoft.SemanticKernel;\n",
    "using Microsoft.SemanticKernel.AI.Embeddings;\n",
    "using Microsoft.SemanticKernel.AI.ImageGeneration;\n",
    "using Microsoft.SemanticKernel.AI.ChatCompletion;\n",
    "using Microsoft.SemanticKernel.Connectors.Memory.Redis;"
   ]
  },
  {
   "cell_type": "code",
   "execution_count": 4,
   "metadata": {
    "dotnet_interactive": {
     "language": "csharp"
    },
    "polyglot_notebook": {
     "kernelName": "csharp"
    }
   },
   "outputs": [],
   "source": [
    "ConnectionMultiplexer connectionMultiplexer = await ConnectionMultiplexer.ConnectAsync(\"localhost:6379\");\n",
    "IDatabase database = connectionMultiplexer.GetDatabase();\n",
    "RedisMemoryStore memoryStore = new RedisMemoryStore(database, vectorSize: 1536);"
   ]
  },
  {
   "cell_type": "code",
   "execution_count": 5,
   "metadata": {
    "dotnet_interactive": {
     "language": "csharp"
    },
    "polyglot_notebook": {
     "kernelName": "csharp"
    }
   },
   "outputs": [],
   "source": [
    "ILogger logger = NullLogger.Instance;"
   ]
  },
  {
   "cell_type": "code",
   "execution_count": 6,
   "metadata": {
    "dotnet_interactive": {
     "language": "csharp"
    },
    "polyglot_notebook": {
     "kernelName": "csharp"
    }
   },
   "outputs": [],
   "source": [
    "// Load OpenAI credentials from config/settings.json\n",
    "var (useAzureOpenAI, model, azureEndpoint, apiKey, orgId) = Settings.LoadFromFile();\n",
    "\n",
    "// Configure text embedding and chat completion services with memmory storage.\n",
    "var kernel = new KernelBuilder()\n",
    "    .WithOpenAITextEmbeddingGenerationService(\"text-embedding-ada-002\", apiKey)\n",
    "    .WithOpenAIChatCompletionService(\"gpt-4\", apiKey, orgId)\n",
    "    .WithMemoryStorage(memoryStore)\n",
    "    .WithLogger(logger)\n",
    "    .Build();"
   ]
  },
  {
   "cell_type": "code",
   "execution_count": 7,
   "metadata": {
    "dotnet_interactive": {
     "language": "csharp"
    },
    "polyglot_notebook": {
     "kernelName": "csharp"
    }
   },
   "outputs": [],
   "source": [
    "// Get AI service instance used to manage the user chat\n",
    "var chatGPT = kernel.GetService<IChatCompletion>();"
   ]
  },
  {
   "cell_type": "code",
   "execution_count": 8,
   "metadata": {
    "dotnet_interactive": {
     "language": "csharp"
    },
    "polyglot_notebook": {
     "kernelName": "csharp"
    }
   },
   "outputs": [],
   "source": [
    "const string MemoryCollectionName = \"aboutMe\";\n",
    "\n",
    "await kernel.Memory.SaveInformationAsync(MemoryCollectionName, id: \"info1\", text: \"My name is Richard\");\n",
    "await kernel.Memory.SaveInformationAsync(MemoryCollectionName, id: \"info2\", text: \"I currently work as a Software Engineer\");\n",
    "await kernel.Memory.SaveInformationAsync(MemoryCollectionName, id: \"info3\", text: \"I currently live in Pretoria and have been living there since 1997\");\n",
    "await kernel.Memory.SaveInformationAsync(MemoryCollectionName, id: \"info4\", text: \"I have recently visited the Neatherlands and will be going to Keyan soon.\");\n",
    "await kernel.Memory.SaveInformationAsync(MemoryCollectionName, id: \"info5\", text: \"My family is also from Pretoria\");"
   ]
  },
  {
   "cell_type": "code",
   "execution_count": 9,
   "metadata": {
    "dotnet_interactive": {
     "language": "csharp"
    },
    "polyglot_notebook": {
     "kernelName": "csharp"
    }
   },
   "outputs": [
    {
     "name": "stdout",
     "output_type": "stream",
     "text": [
      "what is my name? My name is Richard\n",
      "where do I live? I currently live in Pretoria and have been living there since 1997\n",
      "where is my family from? My family is also from Pretoria\n",
      "where have I travelled? I have recently visited the Neatherlands and will be going to Keyan soon.\n",
      "what do I do for work? I currently work as a Software Engineer\n"
     ]
    }
   ],
   "source": [
    "using System.Linq;\n",
    "using System.Collections.Generic;\n",
    "\n",
    "var questions = new[]\n",
    "{\n",
    "    \"what is my name?\",\n",
    "    \"where do I live?\",\n",
    "    \"where is my family from?\",\n",
    "    \"where have I travelled?\",\n",
    "    \"what do I do for work?\",\n",
    "};\n",
    "\n",
    "foreach (var q in questions)\n",
    "{\n",
    "    var responses = kernel.Memory.SearchAsync(MemoryCollectionName, q);\n",
    "\n",
    "    await foreach (var response in responses)\n",
    "    {\n",
    "         Console.WriteLine(q + \" \" + response?.Metadata.Text);\n",
    "    }\n",
    "}"
   ]
  },
  {
   "cell_type": "code",
   "execution_count": 10,
   "metadata": {
    "dotnet_interactive": {
     "language": "csharp"
    },
    "polyglot_notebook": {
     "kernelName": "csharp"
    }
   },
   "outputs": [],
   "source": [
    "using Microsoft.SemanticKernel.CoreSkills;\n",
    "\n",
    "// TextMemorySkill provides the \"recall\" function\n",
    "kernel.ImportSkill(new TextMemorySkill());"
   ]
  },
  {
   "cell_type": "code",
   "execution_count": 11,
   "metadata": {
    "dotnet_interactive": {
     "language": "csharp"
    },
    "polyglot_notebook": {
     "kernelName": "csharp"
    }
   },
   "outputs": [],
   "source": [
    "const string skPrompt = @\"\n",
    "ChatBot can have a conversation with you about any topic.\n",
    "It can give explicit instructions or say 'I don't know' if it does not have an answer.\n",
    "\n",
    "Information about me, from previous conversations:\n",
    "- {{$fact1}} {{recall $fact1}}\n",
    "- {{$fact2}} {{recall $fact2}}\n",
    "- {{$fact3}} {{recall $fact3}}\n",
    "- {{$fact4}} {{recall $fact4}}\n",
    "- {{$fact5}} {{recall $fact5}}\n",
    "\n",
    "Chat:\n",
    "{{$history}}\n",
    "User: {{$userInput}}\n",
    "ChatBot: \";\n",
    "\n",
    "var chatFunction = kernel.CreateSemanticFunction(skPrompt, maxTokens: 200, temperature: 0.8);"
   ]
  },
  {
   "cell_type": "code",
   "execution_count": 12,
   "metadata": {
    "dotnet_interactive": {
     "language": "csharp"
    },
    "polyglot_notebook": {
     "kernelName": "csharp"
    }
   },
   "outputs": [],
   "source": [
    "var context = kernel.CreateNewContext();\n",
    "\n",
    "context[\"fact1\"] = \"what is my name?\";\n",
    "context[\"fact2\"] = \"where do I live?\";\n",
    "context[\"fact3\"] = \"where is my family from?\";\n",
    "context[\"fact4\"] = \"where have I travelled?\";\n",
    "context[\"fact5\"] = \"what do I do for work?\";\n",
    "\n",
    "context[TextMemorySkill.CollectionParam] = MemoryCollectionName;\n",
    "context[TextMemorySkill.RelevanceParam] = \"0.8\";"
   ]
  },
  {
   "cell_type": "code",
   "execution_count": 13,
   "metadata": {
    "dotnet_interactive": {
     "language": "csharp"
    },
    "polyglot_notebook": {
     "kernelName": "csharp"
    }
   },
   "outputs": [],
   "source": [
    "var history = \"\";\n",
    "context[\"history\"] = history;\n",
    "Func<string, Task> Chat = async (string input) => {\n",
    "    // Save new message in the context variables\n",
    "    context[\"userInput\"] = input;\n",
    "\n",
    "    // Process the user message and get an answer\n",
    "    var answer = await chatFunction.InvokeAsync(context);\n",
    "\n",
    "    // Append the new interaction to the chat history\n",
    "    history += $\"\\nUser: {input}\\nChatBot: {answer}\\n\";\n",
    "    context[\"history\"] = history;\n",
    "    \n",
    "    // Show the bot response\n",
    "    Console.WriteLine(\"ChatBot: \" + context);\n",
    "};"
   ]
  }
 ],
 "metadata": {
  "kernelspec": {
   "display_name": ".NET (C#)",
   "language": "C#",
   "name": ".net-csharp"
  },
  "language_info": {
   "name": "polyglot-notebook"
  },
  "polyglot_notebook": {
   "kernelInfo": {
    "defaultKernelName": "csharp",
    "items": [
     {
      "aliases": [],
      "languageName": "csharp",
      "name": "csharp"
     }
    ]
   }
  }
 },
 "nbformat": 4,
 "nbformat_minor": 2
}
